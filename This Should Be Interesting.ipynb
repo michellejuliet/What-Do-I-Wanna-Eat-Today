{
 "cells": [
  {
   "cell_type": "code",
   "execution_count": 1,
   "id": "14499878",
   "metadata": {},
   "outputs": [
    {
     "name": "stdout",
     "output_type": "stream",
     "text": [
      "Monday: Sukuma Wiki\n",
      "Tuesday: Chapati\n",
      "Wednesday: Lentils\n",
      "Thursday: Githeri\n",
      "Friday: Vegetable Salad\n",
      "Saturday: Chicken\n",
      "Sunday: Green Salad\n"
     ]
    }
   ],
   "source": [
    "import random\n",
    "\n",
    "# Define lists of food options for each day\n",
    "meal_options = {\n",
    "    \"Monday\": [\"Ugali\", \"Sukuma Wiki\", \"Nyama Choma\"],\n",
    "    \"Tuesday\": [\"Chapati\", \"Beans\", \"Fried Cabbage\"],\n",
    "    \"Wednesday\": [\"Rice\", \"Lentils\", \"Kachumbari\"],\n",
    "    \"Thursday\": [\"Githeri\", \"Sukuma Wiki\"],\n",
    "    \"Friday\": [\"Mukimo\", \"Fried Fish\", \"Vegetable Salad\"],\n",
    "    \"Saturday\": [\"Pilau\", \"Chicken\", \"Steamed Vegetables\"],\n",
    "    \"Sunday\": [\"Matoke\", \"Beef Stew\", \"Green Salad\"]\n",
    "}\n",
    "\n",
    "# Generate a random meal suggestion for each day\n",
    "def generate_weekly_menu():\n",
    "    weekly_menu = {}\n",
    "    for day, options in meal_options.items():\n",
    "        meal = random.choice(options)\n",
    "        weekly_menu[day] = meal\n",
    "    return weekly_menu\n",
    "\n",
    "# Print the generated menu\n",
    "def print_menu(menu):\n",
    "    for day, meal in menu.items():\n",
    "        print(f\"{day}: {meal}\")\n",
    "\n",
    "# Example usage\n",
    "weekly_menu = generate_weekly_menu()\n",
    "print_menu(weekly_menu)"
   ]
  },
  {
   "cell_type": "code",
   "execution_count": null,
   "id": "ae57b58f",
   "metadata": {},
   "outputs": [],
   "source": []
  }
 ],
 "metadata": {
  "kernelspec": {
   "display_name": "Python 3 (ipykernel)",
   "language": "python",
   "name": "python3"
  },
  "language_info": {
   "codemirror_mode": {
    "name": "ipython",
    "version": 3
   },
   "file_extension": ".py",
   "mimetype": "text/x-python",
   "name": "python",
   "nbconvert_exporter": "python",
   "pygments_lexer": "ipython3",
   "version": "3.9.13"
  }
 },
 "nbformat": 4,
 "nbformat_minor": 5
}
